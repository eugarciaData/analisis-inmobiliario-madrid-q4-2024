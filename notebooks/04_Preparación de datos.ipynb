{
 "cells": [
  {
   "cell_type": "code",
   "execution_count": 1,
   "id": "bb89bcdb-5ffc-4026-95e6-1336c44a0eb2",
   "metadata": {},
   "outputs": [],
   "source": [
    "import numpy as np\n",
    "import pandas as pd\n",
    "import matplotlib.pyplot as plt\n",
    "%matplotlib inline\n",
    "import seaborn as sns\n",
    "import sqlalchemy as sa\n",
    "\n",
    "%config IPCompleter.greedy = True"
   ]
  },
  {
   "cell_type": "code",
   "execution_count": 5,
   "id": "c509cbd4-8493-455e-aad7-3c6b9eb3c899",
   "metadata": {},
   "outputs": [
    {
     "data": {
      "text/html": [
       "<div>\n",
       "<style scoped>\n",
       "    .dataframe tbody tr th:only-of-type {\n",
       "        vertical-align: middle;\n",
       "    }\n",
       "\n",
       "    .dataframe tbody tr th {\n",
       "        vertical-align: top;\n",
       "    }\n",
       "\n",
       "    .dataframe thead th {\n",
       "        text-align: right;\n",
       "    }\n",
       "</style>\n",
       "<table border=\"1\" class=\"dataframe\">\n",
       "  <thead>\n",
       "    <tr style=\"text-align: right;\">\n",
       "      <th></th>\n",
       "      <th>index</th>\n",
       "      <th>id</th>\n",
       "      <th>name</th>\n",
       "      <th>host_id</th>\n",
       "      <th>neighbourhood_group</th>\n",
       "      <th>neighbourhood</th>\n",
       "      <th>latitude</th>\n",
       "      <th>longitude</th>\n",
       "      <th>room_type</th>\n",
       "      <th>price</th>\n",
       "      <th>...</th>\n",
       "      <th>host_is_superhost</th>\n",
       "      <th>accommodates</th>\n",
       "      <th>bedrooms</th>\n",
       "      <th>beds</th>\n",
       "      <th>number_of_reviews</th>\n",
       "      <th>review_scores_rating</th>\n",
       "      <th>review_scores_communication</th>\n",
       "      <th>review_scores_location</th>\n",
       "      <th>precio_m2</th>\n",
       "      <th>distrito</th>\n",
       "    </tr>\n",
       "  </thead>\n",
       "  <tbody>\n",
       "    <tr>\n",
       "      <th>0</th>\n",
       "      <td>0</td>\n",
       "      <td>902671779171769624</td>\n",
       "      <td>Habitación centro de Madrid 4</td>\n",
       "      <td>50080380</td>\n",
       "      <td>Centro</td>\n",
       "      <td>Cortes</td>\n",
       "      <td>40.411812</td>\n",
       "      <td>-3.697614</td>\n",
       "      <td>Private room</td>\n",
       "      <td>77</td>\n",
       "      <td>...</td>\n",
       "      <td>f</td>\n",
       "      <td>2</td>\n",
       "      <td>1</td>\n",
       "      <td>1.0</td>\n",
       "      <td>3</td>\n",
       "      <td>4.0</td>\n",
       "      <td>4.67</td>\n",
       "      <td>5.0</td>\n",
       "      <td>6594</td>\n",
       "      <td>Centro</td>\n",
       "    </tr>\n",
       "    <tr>\n",
       "      <th>1</th>\n",
       "      <td>1</td>\n",
       "      <td>9753808</td>\n",
       "      <td>Habitación cuqui</td>\n",
       "      <td>41563621</td>\n",
       "      <td>Centro</td>\n",
       "      <td>Embajadores</td>\n",
       "      <td>40.410970</td>\n",
       "      <td>-3.698240</td>\n",
       "      <td>Private room</td>\n",
       "      <td>54</td>\n",
       "      <td>...</td>\n",
       "      <td>f</td>\n",
       "      <td>1</td>\n",
       "      <td>1</td>\n",
       "      <td>1.0</td>\n",
       "      <td>1</td>\n",
       "      <td>5.0</td>\n",
       "      <td>5.00</td>\n",
       "      <td>5.0</td>\n",
       "      <td>6594</td>\n",
       "      <td>Centro</td>\n",
       "    </tr>\n",
       "    <tr>\n",
       "      <th>2</th>\n",
       "      <td>2</td>\n",
       "      <td>46899002</td>\n",
       "      <td>Habitación Doble con Baño Compartido</td>\n",
       "      <td>331096767</td>\n",
       "      <td>San Blas - Canillejas</td>\n",
       "      <td>Rejas</td>\n",
       "      <td>40.444300</td>\n",
       "      <td>-3.565950</td>\n",
       "      <td>Private room</td>\n",
       "      <td>55</td>\n",
       "      <td>...</td>\n",
       "      <td>f</td>\n",
       "      <td>2</td>\n",
       "      <td>1</td>\n",
       "      <td>1.0</td>\n",
       "      <td>0</td>\n",
       "      <td>NaN</td>\n",
       "      <td>NaN</td>\n",
       "      <td>NaN</td>\n",
       "      <td>3194</td>\n",
       "      <td>San Blas - Canillejas</td>\n",
       "    </tr>\n",
       "    <tr>\n",
       "      <th>3</th>\n",
       "      <td>3</td>\n",
       "      <td>1125891241820979969</td>\n",
       "      <td>SB18-04 Habitación  área exclusiva de Madrid</td>\n",
       "      <td>567327895</td>\n",
       "      <td>Centro</td>\n",
       "      <td>Palacio</td>\n",
       "      <td>40.408240</td>\n",
       "      <td>-3.713480</td>\n",
       "      <td>Private room</td>\n",
       "      <td>69</td>\n",
       "      <td>...</td>\n",
       "      <td>f</td>\n",
       "      <td>1</td>\n",
       "      <td>1</td>\n",
       "      <td>1.0</td>\n",
       "      <td>0</td>\n",
       "      <td>NaN</td>\n",
       "      <td>NaN</td>\n",
       "      <td>NaN</td>\n",
       "      <td>6594</td>\n",
       "      <td>Centro</td>\n",
       "    </tr>\n",
       "    <tr>\n",
       "      <th>4</th>\n",
       "      <td>4</td>\n",
       "      <td>49895335</td>\n",
       "      <td>Teste</td>\n",
       "      <td>86662970</td>\n",
       "      <td>Ciudad Lineal</td>\n",
       "      <td>San Juan Bautista</td>\n",
       "      <td>40.453560</td>\n",
       "      <td>-3.656380</td>\n",
       "      <td>Private room</td>\n",
       "      <td>200</td>\n",
       "      <td>...</td>\n",
       "      <td>f</td>\n",
       "      <td>2</td>\n",
       "      <td>1</td>\n",
       "      <td>1.0</td>\n",
       "      <td>0</td>\n",
       "      <td>NaN</td>\n",
       "      <td>NaN</td>\n",
       "      <td>NaN</td>\n",
       "      <td>4002</td>\n",
       "      <td>Ciudad Lineal</td>\n",
       "    </tr>\n",
       "  </tbody>\n",
       "</table>\n",
       "<p>5 rows × 24 columns</p>\n",
       "</div>"
      ],
      "text/plain": [
       "   index                   id                                          name  \\\n",
       "0      0   902671779171769624                 Habitación centro de Madrid 4   \n",
       "1      1              9753808                              Habitación cuqui   \n",
       "2      2             46899002          Habitación Doble con Baño Compartido   \n",
       "3      3  1125891241820979969  SB18-04 Habitación  área exclusiva de Madrid   \n",
       "4      4             49895335                                         Teste   \n",
       "\n",
       "     host_id    neighbourhood_group      neighbourhood   latitude  longitude  \\\n",
       "0   50080380                 Centro             Cortes  40.411812  -3.697614   \n",
       "1   41563621                 Centro        Embajadores  40.410970  -3.698240   \n",
       "2  331096767  San Blas - Canillejas              Rejas  40.444300  -3.565950   \n",
       "3  567327895                 Centro            Palacio  40.408240  -3.713480   \n",
       "4   86662970          Ciudad Lineal  San Juan Bautista  40.453560  -3.656380   \n",
       "\n",
       "      room_type  price  ...  host_is_superhost  accommodates  bedrooms beds  \\\n",
       "0  Private room     77  ...                  f             2         1  1.0   \n",
       "1  Private room     54  ...                  f             1         1  1.0   \n",
       "2  Private room     55  ...                  f             2         1  1.0   \n",
       "3  Private room     69  ...                  f             1         1  1.0   \n",
       "4  Private room    200  ...                  f             2         1  1.0   \n",
       "\n",
       "  number_of_reviews  review_scores_rating  review_scores_communication  \\\n",
       "0                 3                   4.0                         4.67   \n",
       "1                 1                   5.0                         5.00   \n",
       "2                 0                   NaN                          NaN   \n",
       "3                 0                   NaN                          NaN   \n",
       "4                 0                   NaN                          NaN   \n",
       "\n",
       "   review_scores_location  precio_m2               distrito  \n",
       "0                     5.0       6594                 Centro  \n",
       "1                     5.0       6594                 Centro  \n",
       "2                     NaN       3194  San Blas - Canillejas  \n",
       "3                     NaN       6594                 Centro  \n",
       "4                     NaN       4002          Ciudad Lineal  \n",
       "\n",
       "[5 rows x 24 columns]"
      ]
     },
     "execution_count": 5,
     "metadata": {},
     "output_type": "execute_result"
    }
   ],
   "source": [
    "con = sa.create_engine('sqlite:///../Datos_Madrid_2024/airbnb.db')\n",
    "\n",
    "df = pd.read_sql('df', con = con)\n",
    "\n",
    "df.head()"
   ]
  },
  {
   "cell_type": "code",
   "execution_count": 6,
   "id": "7bb10f1d-f186-4a67-8aa1-16ac527f0025",
   "metadata": {},
   "outputs": [
    {
     "data": {
      "text/plain": [
       "distrito\n",
       "Centro                   10245\n",
       "Chamberí                  1619\n",
       "Salamanca                 1560\n",
       "Tetuán                    1521\n",
       "Arganzuela                1407\n",
       "Carabanchel                957\n",
       "Ciudad Lineal              905\n",
       "Retiro                     890\n",
       "Chamartín                  797\n",
       "Puente de Vallecas         785\n",
       "Latina                     719\n",
       "Moncloa - Aravaca          670\n",
       "Usera                      593\n",
       "San Blas - Canillejas      568\n",
       "Hortaleza                  499\n",
       "Fuencarral - El Pardo      377\n",
       "Villaverde                 243\n",
       "Barajas                    179\n",
       "Moratalaz                  159\n",
       "Villa de Vallecas          133\n",
       "Vicálvaro                   84\n",
       "Name: count, dtype: int64"
      ]
     },
     "execution_count": 6,
     "metadata": {},
     "output_type": "execute_result"
    }
   ],
   "source": [
    "#Vamos a analizar price y si es el precio del apartamento o si es una habitación, etc...\n",
    "#Vamos a analizar por distrito también, para ver si cambia en el barrio de Salamanca o en Aluche, para aislar y hacer conteo por distritos\n",
    "df.distrito.value_counts()\n",
    "#Cuanto mayor tamaño muestral, mejor"
   ]
  },
  {
   "cell_type": "code",
   "execution_count": 7,
   "id": "b5ff51fc-5cb7-47d3-a85a-871cdbb69692",
   "metadata": {},
   "outputs": [
    {
     "data": {
      "text/plain": [
       "room_type\n",
       "Entire home/apt    135.449674\n",
       "Private room        71.512663\n",
       "Shared room         45.291339\n",
       "Name: price, dtype: float64"
      ]
     },
     "execution_count": 7,
     "metadata": {},
     "output_type": "execute_result"
    }
   ],
   "source": [
    "df.loc[df.distrito == 'Centro',:].groupby('room_type').price.mean()"
   ]
  },
  {
   "cell_type": "markdown",
   "id": "2106c089-ac03-49c9-b7cf-2f9f7ca80233",
   "metadata": {},
   "source": [
    "**Hay bastante diferencia, por eso hay que analizar esto para estimar los ingresos. Por ejemplo, multiplicar el precio por el número de habitaciones**"
   ]
  },
  {
   "cell_type": "markdown",
   "id": "ac37bd72-a4eb-4d01-ba51-807a4bd0a197",
   "metadata": {},
   "source": [
    "Pero cuidado sobreestimando el ingreso, ya que no siempre va a estar completo un apto con 3 habitaciones. Vamos a ajustar"
   ]
  },
  {
   "cell_type": "code",
   "execution_count": 8,
   "id": "e2745384-0b53-4445-8cdc-62f281cb34d1",
   "metadata": {},
   "outputs": [
    {
     "name": "stdout",
     "output_type": "stream",
     "text": [
      "<class 'pandas.core.frame.DataFrame'>\n",
      "RangeIndex: 24910 entries, 0 to 24909\n",
      "Data columns (total 24 columns):\n",
      " #   Column                          Non-Null Count  Dtype  \n",
      "---  ------                          --------------  -----  \n",
      " 0   index                           24910 non-null  int64  \n",
      " 1   id                              24910 non-null  int64  \n",
      " 2   name                            24910 non-null  object \n",
      " 3   host_id                         24910 non-null  int64  \n",
      " 4   neighbourhood_group             24910 non-null  object \n",
      " 5   neighbourhood                   24910 non-null  object \n",
      " 6   latitude                        24910 non-null  float64\n",
      " 7   longitude                       24910 non-null  float64\n",
      " 8   room_type                       24910 non-null  object \n",
      " 9   price                           24910 non-null  int64  \n",
      " 10  minimum_nights                  24910 non-null  int64  \n",
      " 11  calculated_host_listings_count  24910 non-null  int64  \n",
      " 12  availability_365                24910 non-null  int64  \n",
      " 13  description                     24910 non-null  object \n",
      " 14  host_is_superhost               24910 non-null  object \n",
      " 15  accommodates                    24910 non-null  int64  \n",
      " 16  bedrooms                        24910 non-null  int64  \n",
      " 17  beds                            24910 non-null  float64\n",
      " 18  number_of_reviews               24910 non-null  int64  \n",
      " 19  review_scores_rating            19770 non-null  float64\n",
      " 20  review_scores_communication     19770 non-null  float64\n",
      " 21  review_scores_location          19767 non-null  float64\n",
      " 22  precio_m2                       24910 non-null  int64  \n",
      " 23  distrito                        24910 non-null  object \n",
      "dtypes: float64(6), int64(11), object(7)\n",
      "memory usage: 4.6+ MB\n"
     ]
    }
   ],
   "source": [
    "df.info()"
   ]
  },
  {
   "cell_type": "code",
   "execution_count": 9,
   "id": "85e33f6b-d9fb-47d0-887d-e34b382fa08a",
   "metadata": {},
   "outputs": [
    {
     "data": {
      "text/plain": [
       "0         77.0\n",
       "1         54.0\n",
       "2         55.0\n",
       "3         69.0\n",
       "4        200.0\n",
       "         ...  \n",
       "24905     50.0\n",
       "24906     55.0\n",
       "24907     50.0\n",
       "24908     35.0\n",
       "24909     31.0\n",
       "Length: 24910, dtype: float64"
      ]
     },
     "execution_count": 9,
     "metadata": {},
     "output_type": "execute_result"
    }
   ],
   "source": [
    "#Queremos homogeneizar el precio de alquiler, y estimar más correctamente los ingresos cuando está alquilado.\n",
    "#IMPORTANTE, en vez de beds, en el otro proyecto utiliza habitaciones (bedrooms)\n",
    "def crear_precio_total(registro):\n",
    "    if (registro.bedrooms > 1) & ((registro.room_type == 'Private room') | (registro.room_type == 'Shared room')):\n",
    "        salida = registro.price * registro.bedrooms * 0.7\n",
    "    else:\n",
    "        salida = registro.price\n",
    "    return(salida)\n",
    "\n",
    "df.apply(crear_precio_total, axis = 1)"
   ]
  },
  {
   "cell_type": "code",
   "execution_count": 10,
   "id": "b6c5d207-d279-4ddb-92a0-e631adae0d6c",
   "metadata": {},
   "outputs": [],
   "source": [
    "df['precio_total'] = df.apply(crear_precio_total, axis = 1)"
   ]
  },
  {
   "cell_type": "code",
   "execution_count": 12,
   "id": "84bfcb45-4e6c-4fc9-912e-ac21704cce0e",
   "metadata": {},
   "outputs": [
    {
     "data": {
      "text/html": [
       "<div>\n",
       "<style scoped>\n",
       "    .dataframe tbody tr th:only-of-type {\n",
       "        vertical-align: middle;\n",
       "    }\n",
       "\n",
       "    .dataframe tbody tr th {\n",
       "        vertical-align: top;\n",
       "    }\n",
       "\n",
       "    .dataframe thead th {\n",
       "        text-align: right;\n",
       "    }\n",
       "</style>\n",
       "<table border=\"1\" class=\"dataframe\">\n",
       "  <thead>\n",
       "    <tr style=\"text-align: right;\">\n",
       "      <th></th>\n",
       "      <th>room_type</th>\n",
       "      <th>price</th>\n",
       "      <th>bedrooms</th>\n",
       "      <th>precio_total</th>\n",
       "    </tr>\n",
       "  </thead>\n",
       "  <tbody>\n",
       "    <tr>\n",
       "      <th>0</th>\n",
       "      <td>Private room</td>\n",
       "      <td>77</td>\n",
       "      <td>1</td>\n",
       "      <td>77.0</td>\n",
       "    </tr>\n",
       "    <tr>\n",
       "      <th>1</th>\n",
       "      <td>Private room</td>\n",
       "      <td>54</td>\n",
       "      <td>1</td>\n",
       "      <td>54.0</td>\n",
       "    </tr>\n",
       "    <tr>\n",
       "      <th>2</th>\n",
       "      <td>Private room</td>\n",
       "      <td>55</td>\n",
       "      <td>1</td>\n",
       "      <td>55.0</td>\n",
       "    </tr>\n",
       "    <tr>\n",
       "      <th>3</th>\n",
       "      <td>Private room</td>\n",
       "      <td>69</td>\n",
       "      <td>1</td>\n",
       "      <td>69.0</td>\n",
       "    </tr>\n",
       "    <tr>\n",
       "      <th>4</th>\n",
       "      <td>Private room</td>\n",
       "      <td>200</td>\n",
       "      <td>1</td>\n",
       "      <td>200.0</td>\n",
       "    </tr>\n",
       "    <tr>\n",
       "      <th>5</th>\n",
       "      <td>Private room</td>\n",
       "      <td>55</td>\n",
       "      <td>1</td>\n",
       "      <td>55.0</td>\n",
       "    </tr>\n",
       "    <tr>\n",
       "      <th>6</th>\n",
       "      <td>Private room</td>\n",
       "      <td>40</td>\n",
       "      <td>1</td>\n",
       "      <td>40.0</td>\n",
       "    </tr>\n",
       "    <tr>\n",
       "      <th>7</th>\n",
       "      <td>Entire home/apt</td>\n",
       "      <td>91</td>\n",
       "      <td>3</td>\n",
       "      <td>91.0</td>\n",
       "    </tr>\n",
       "    <tr>\n",
       "      <th>8</th>\n",
       "      <td>Private room</td>\n",
       "      <td>45</td>\n",
       "      <td>5</td>\n",
       "      <td>157.5</td>\n",
       "    </tr>\n",
       "    <tr>\n",
       "      <th>9</th>\n",
       "      <td>Entire home/apt</td>\n",
       "      <td>114</td>\n",
       "      <td>2</td>\n",
       "      <td>114.0</td>\n",
       "    </tr>\n",
       "    <tr>\n",
       "      <th>10</th>\n",
       "      <td>Private room</td>\n",
       "      <td>40</td>\n",
       "      <td>1</td>\n",
       "      <td>40.0</td>\n",
       "    </tr>\n",
       "    <tr>\n",
       "      <th>11</th>\n",
       "      <td>Entire home/apt</td>\n",
       "      <td>157</td>\n",
       "      <td>3</td>\n",
       "      <td>157.0</td>\n",
       "    </tr>\n",
       "    <tr>\n",
       "      <th>12</th>\n",
       "      <td>Entire home/apt</td>\n",
       "      <td>244</td>\n",
       "      <td>2</td>\n",
       "      <td>244.0</td>\n",
       "    </tr>\n",
       "    <tr>\n",
       "      <th>13</th>\n",
       "      <td>Entire home/apt</td>\n",
       "      <td>125</td>\n",
       "      <td>1</td>\n",
       "      <td>125.0</td>\n",
       "    </tr>\n",
       "    <tr>\n",
       "      <th>14</th>\n",
       "      <td>Entire home/apt</td>\n",
       "      <td>144</td>\n",
       "      <td>1</td>\n",
       "      <td>144.0</td>\n",
       "    </tr>\n",
       "    <tr>\n",
       "      <th>15</th>\n",
       "      <td>Private room</td>\n",
       "      <td>49</td>\n",
       "      <td>2</td>\n",
       "      <td>68.6</td>\n",
       "    </tr>\n",
       "    <tr>\n",
       "      <th>16</th>\n",
       "      <td>Entire home/apt</td>\n",
       "      <td>137</td>\n",
       "      <td>1</td>\n",
       "      <td>137.0</td>\n",
       "    </tr>\n",
       "    <tr>\n",
       "      <th>17</th>\n",
       "      <td>Private room</td>\n",
       "      <td>63</td>\n",
       "      <td>1</td>\n",
       "      <td>63.0</td>\n",
       "    </tr>\n",
       "    <tr>\n",
       "      <th>18</th>\n",
       "      <td>Private room</td>\n",
       "      <td>46</td>\n",
       "      <td>1</td>\n",
       "      <td>46.0</td>\n",
       "    </tr>\n",
       "    <tr>\n",
       "      <th>19</th>\n",
       "      <td>Private room</td>\n",
       "      <td>54</td>\n",
       "      <td>1</td>\n",
       "      <td>54.0</td>\n",
       "    </tr>\n",
       "    <tr>\n",
       "      <th>20</th>\n",
       "      <td>Private room</td>\n",
       "      <td>30</td>\n",
       "      <td>1</td>\n",
       "      <td>30.0</td>\n",
       "    </tr>\n",
       "    <tr>\n",
       "      <th>21</th>\n",
       "      <td>Entire home/apt</td>\n",
       "      <td>102</td>\n",
       "      <td>2</td>\n",
       "      <td>102.0</td>\n",
       "    </tr>\n",
       "    <tr>\n",
       "      <th>22</th>\n",
       "      <td>Private room</td>\n",
       "      <td>63</td>\n",
       "      <td>1</td>\n",
       "      <td>63.0</td>\n",
       "    </tr>\n",
       "    <tr>\n",
       "      <th>23</th>\n",
       "      <td>Private room</td>\n",
       "      <td>46</td>\n",
       "      <td>1</td>\n",
       "      <td>46.0</td>\n",
       "    </tr>\n",
       "    <tr>\n",
       "      <th>24</th>\n",
       "      <td>Private room</td>\n",
       "      <td>40</td>\n",
       "      <td>1</td>\n",
       "      <td>40.0</td>\n",
       "    </tr>\n",
       "    <tr>\n",
       "      <th>25</th>\n",
       "      <td>Entire home/apt</td>\n",
       "      <td>131</td>\n",
       "      <td>2</td>\n",
       "      <td>131.0</td>\n",
       "    </tr>\n",
       "    <tr>\n",
       "      <th>26</th>\n",
       "      <td>Entire home/apt</td>\n",
       "      <td>93</td>\n",
       "      <td>2</td>\n",
       "      <td>93.0</td>\n",
       "    </tr>\n",
       "    <tr>\n",
       "      <th>27</th>\n",
       "      <td>Entire home/apt</td>\n",
       "      <td>127</td>\n",
       "      <td>2</td>\n",
       "      <td>127.0</td>\n",
       "    </tr>\n",
       "    <tr>\n",
       "      <th>28</th>\n",
       "      <td>Entire home/apt</td>\n",
       "      <td>175</td>\n",
       "      <td>4</td>\n",
       "      <td>175.0</td>\n",
       "    </tr>\n",
       "    <tr>\n",
       "      <th>29</th>\n",
       "      <td>Entire home/apt</td>\n",
       "      <td>90</td>\n",
       "      <td>2</td>\n",
       "      <td>90.0</td>\n",
       "    </tr>\n",
       "  </tbody>\n",
       "</table>\n",
       "</div>"
      ],
      "text/plain": [
       "          room_type  price  bedrooms  precio_total\n",
       "0      Private room     77         1          77.0\n",
       "1      Private room     54         1          54.0\n",
       "2      Private room     55         1          55.0\n",
       "3      Private room     69         1          69.0\n",
       "4      Private room    200         1         200.0\n",
       "5      Private room     55         1          55.0\n",
       "6      Private room     40         1          40.0\n",
       "7   Entire home/apt     91         3          91.0\n",
       "8      Private room     45         5         157.5\n",
       "9   Entire home/apt    114         2         114.0\n",
       "10     Private room     40         1          40.0\n",
       "11  Entire home/apt    157         3         157.0\n",
       "12  Entire home/apt    244         2         244.0\n",
       "13  Entire home/apt    125         1         125.0\n",
       "14  Entire home/apt    144         1         144.0\n",
       "15     Private room     49         2          68.6\n",
       "16  Entire home/apt    137         1         137.0\n",
       "17     Private room     63         1          63.0\n",
       "18     Private room     46         1          46.0\n",
       "19     Private room     54         1          54.0\n",
       "20     Private room     30         1          30.0\n",
       "21  Entire home/apt    102         2         102.0\n",
       "22     Private room     63         1          63.0\n",
       "23     Private room     46         1          46.0\n",
       "24     Private room     40         1          40.0\n",
       "25  Entire home/apt    131         2         131.0\n",
       "26  Entire home/apt     93         2          93.0\n",
       "27  Entire home/apt    127         2         127.0\n",
       "28  Entire home/apt    175         4         175.0\n",
       "29  Entire home/apt     90         2          90.0"
      ]
     },
     "execution_count": 12,
     "metadata": {},
     "output_type": "execute_result"
    }
   ],
   "source": [
    "#Vemos ejemplos a ver si funciona\n",
    "df[['room_type','price','bedrooms','precio_total']].head(30)"
   ]
  },
  {
   "cell_type": "code",
   "execution_count": 13,
   "id": "087d4194-a53d-49c6-9ce9-3565783b967e",
   "metadata": {},
   "outputs": [
    {
     "data": {
      "text/html": [
       "<div>\n",
       "<style scoped>\n",
       "    .dataframe tbody tr th:only-of-type {\n",
       "        vertical-align: middle;\n",
       "    }\n",
       "\n",
       "    .dataframe tbody tr th {\n",
       "        vertical-align: top;\n",
       "    }\n",
       "\n",
       "    .dataframe thead th {\n",
       "        text-align: right;\n",
       "    }\n",
       "</style>\n",
       "<table border=\"1\" class=\"dataframe\">\n",
       "  <thead>\n",
       "    <tr style=\"text-align: right;\">\n",
       "      <th></th>\n",
       "      <th>ocupacion</th>\n",
       "      <th>availability_365</th>\n",
       "    </tr>\n",
       "  </thead>\n",
       "  <tbody>\n",
       "    <tr>\n",
       "      <th>0</th>\n",
       "      <td>100</td>\n",
       "      <td>0</td>\n",
       "    </tr>\n",
       "    <tr>\n",
       "      <th>1</th>\n",
       "      <td>100</td>\n",
       "      <td>0</td>\n",
       "    </tr>\n",
       "    <tr>\n",
       "      <th>2</th>\n",
       "      <td>100</td>\n",
       "      <td>0</td>\n",
       "    </tr>\n",
       "    <tr>\n",
       "      <th>3</th>\n",
       "      <td>100</td>\n",
       "      <td>0</td>\n",
       "    </tr>\n",
       "    <tr>\n",
       "      <th>4</th>\n",
       "      <td>0</td>\n",
       "      <td>365</td>\n",
       "    </tr>\n",
       "    <tr>\n",
       "      <th>5</th>\n",
       "      <td>100</td>\n",
       "      <td>0</td>\n",
       "    </tr>\n",
       "    <tr>\n",
       "      <th>6</th>\n",
       "      <td>100</td>\n",
       "      <td>0</td>\n",
       "    </tr>\n",
       "    <tr>\n",
       "      <th>7</th>\n",
       "      <td>100</td>\n",
       "      <td>0</td>\n",
       "    </tr>\n",
       "    <tr>\n",
       "      <th>8</th>\n",
       "      <td>100</td>\n",
       "      <td>0</td>\n",
       "    </tr>\n",
       "    <tr>\n",
       "      <th>9</th>\n",
       "      <td>100</td>\n",
       "      <td>0</td>\n",
       "    </tr>\n",
       "  </tbody>\n",
       "</table>\n",
       "</div>"
      ],
      "text/plain": [
       "   ocupacion  availability_365\n",
       "0        100                 0\n",
       "1        100                 0\n",
       "2        100                 0\n",
       "3        100                 0\n",
       "4          0               365\n",
       "5        100                 0\n",
       "6        100                 0\n",
       "7        100                 0\n",
       "8        100                 0\n",
       "9        100                 0"
      ]
     },
     "execution_count": 13,
     "metadata": {},
     "output_type": "execute_result"
    }
   ],
   "source": [
    "#Ahora continuamos con la ocupación, nos interesa ponerlo en porcentaje. Usamos técnica de cálculos directos\n",
    "#availability_365 nos da el número de días que está DISPONIBLE, no el número de días que está OCUPADO\n",
    "df['ocupacion'] = (((365 - df.availability_365) / 365) * 100).astype('int64')\n",
    "\n",
    "df[['ocupacion','availability_365']].head(10)"
   ]
  },
  {
   "cell_type": "markdown",
   "id": "2b63f201-2710-416e-b067-d868f7bc0c3b",
   "metadata": {},
   "source": [
    "**Vamos a transformar accomodates, bedrooms, beds y number of reviews. Discretizamos para pasarlas de continuas a categóricas y cruzarlas despues con la ocupación o el precio total**"
   ]
  },
  {
   "cell_type": "code",
   "execution_count": 14,
   "id": "9710b24e-296c-46ce-8ac3-786ac1bb6df9",
   "metadata": {},
   "outputs": [
    {
     "data": {
      "image/png": "[encoded data removed]",
      "text/plain": [
       "<Figure size 640x480 with 1 Axes>"
      ]
     },
     "metadata": {},
     "output_type": "display_data"
    }
   ],
   "source": [
    "#Discretización manual de bedrooms que tenga sentido en negocio y en número de casos que tenemos\n",
    "df.bedrooms.value_counts().plot.bar();"
   ]
  },
  {
   "cell_type": "code",
   "execution_count": 15,
   "id": "9c3cab0c-83d5-4945-aaf1-799468e917f3",
   "metadata": {},
   "outputs": [],
   "source": [
    "condiciones = [df.bedrooms == 1,\n",
    "               df.bedrooms == 2,\n",
    "               df.bedrooms == 3,\n",
    "               df.bedrooms > 3]\n",
    "resultados = ['01_Una','02_Dos','03_Tres','04_Cuatro_o_mas']\n",
    "\n",
    "df['bedrooms_disc'] = np.select(condiciones, resultados, default = -999)"
   ]
  },
  {
   "cell_type": "code",
   "execution_count": 16,
   "id": "d579f9f1-c426-42cc-bc0e-1b887f27482b",
   "metadata": {},
   "outputs": [
    {
     "data": {
      "text/plain": [
       "bedrooms_disc\n",
       "01_Una             16536\n",
       "02_Dos              5013\n",
       "03_Tres             1529\n",
       "-999                1429\n",
       "04_Cuatro_o_mas      403\n",
       "Name: count, dtype: int64"
      ]
     },
     "execution_count": 16,
     "metadata": {},
     "output_type": "execute_result"
    }
   ],
   "source": [
    "df['bedrooms_disc'].value_counts()"
   ]
  },
  {
   "cell_type": "code",
   "execution_count": 17,
   "id": "0e327306-5427-4314-a1d5-867f21444071",
   "metadata": {},
   "outputs": [
    {
     "data": {
      "image/png": "[encoded data removed]",
      "text/plain": [
       "<Figure size 640x480 with 1 Axes>"
      ]
     },
     "metadata": {},
     "output_type": "display_data"
    }
   ],
   "source": [
    "#Discretización de forma automática\n",
    "df.accommodates.value_counts().plot.bar();"
   ]
  },
  {
   "cell_type": "code",
   "execution_count": 18,
   "id": "6c227553-1a8c-44b2-ab0b-763244f76f68",
   "metadata": {},
   "outputs": [
    {
     "data": {
      "image/png": "[encoded data removed]",
      "text/plain": [
       "<Figure size 640x480 with 1 Axes>"
      ]
     },
     "metadata": {},
     "output_type": "display_data"
    }
   ],
   "source": [
    "#Replicamos esto de una manera sencilla:\n",
    "pd.qcut(df.accommodates, [0,0.5,0.8,1]).value_counts().plot.bar();"
   ]
  },
  {
   "cell_type": "code",
   "execution_count": 19,
   "id": "bb24386d-7711-4ef1-be09-1919ff86b66b",
   "metadata": {},
   "outputs": [
    {
     "data": {
      "text/plain": [
       "0        (0.999, 2.0]\n",
       "1        (0.999, 2.0]\n",
       "2        (0.999, 2.0]\n",
       "3        (0.999, 2.0]\n",
       "4        (0.999, 2.0]\n",
       "             ...     \n",
       "24905    (0.999, 2.0]\n",
       "24906    (0.999, 2.0]\n",
       "24907    (0.999, 2.0]\n",
       "24908    (0.999, 2.0]\n",
       "24909    (0.999, 2.0]\n",
       "Name: accommodates, Length: 24910, dtype: category\n",
       "Categories (3, interval[float64, right]): [(0.999, 2.0] < (2.0, 4.0] < (4.0, 16.0]]"
      ]
     },
     "execution_count": 19,
     "metadata": {},
     "output_type": "execute_result"
    }
   ],
   "source": [
    "pd.qcut(df.accommodates, [0,0.5,0.8,1])"
   ]
  },
  {
   "cell_type": "code",
   "execution_count": 21,
   "id": "f226d584-e554-4598-97f7-9fafbbcab23a",
   "metadata": {},
   "outputs": [
    {
     "data": {
      "image/png": "[encoded data removed]",
      "text/plain": [
       "<Figure size 640x480 with 1 Axes>"
      ]
     },
     "metadata": {},
     "output_type": "display_data"
    }
   ],
   "source": [
    "#Personalizar las etiquetas, para que quede más legible y no tener problemas con las bases de datos\n",
    "df['accommodates_disc'] = pd.qcut(df.accommodates,[0, 0.5, 0.8, 1],\n",
    "                                 labels = ['0-3','4','5-16'])\n",
    "\n",
    "df['accommodates_disc'].value_counts().sort_index(ascending = False).plot.barh();"
   ]
  },
  {
   "cell_type": "markdown",
   "id": "9423a1a2-2350-4238-8dce-e35b74497eb2",
   "metadata": {},
   "source": [
    "**Ahora lo hacemos con beds**"
   ]
  },
  {
   "cell_type": "code",
   "execution_count": 23,
   "id": "e8166519-b81d-417f-913e-958b31dfb6f8",
   "metadata": {},
   "outputs": [
    {
     "data": {
      "text/plain": [
       "0        (-0.001, 1.0]\n",
       "1        (-0.001, 1.0]\n",
       "2        (-0.001, 1.0]\n",
       "3        (-0.001, 1.0]\n",
       "4        (-0.001, 1.0]\n",
       "             ...      \n",
       "24905    (-0.001, 1.0]\n",
       "24906    (-0.001, 1.0]\n",
       "24907    (-0.001, 1.0]\n",
       "24908    (-0.001, 1.0]\n",
       "24909    (-0.001, 1.0]\n",
       "Name: beds, Length: 24910, dtype: category\n",
       "Categories (3, interval[float64, right]): [(-0.001, 1.0] < (1.0, 2.0] < (2.0, 40.0]]"
      ]
     },
     "execution_count": 23,
     "metadata": {},
     "output_type": "execute_result"
    }
   ],
   "source": [
    "pd.qcut(df.beds, [0,0.5,0.8,1])"
   ]
  },
  {
   "cell_type": "code",
   "execution_count": 24,
   "id": "2e54bd7c-596e-47aa-8eb2-46e08bfb1098",
   "metadata": {},
   "outputs": [
    {
     "data": {
      "image/png": "[encoded data removed]",
      "text/plain": [
       "<Figure size 640x480 with 1 Axes>"
      ]
     },
     "metadata": {},
     "output_type": "display_data"
    }
   ],
   "source": [
    "pd.qcut(df.beds,[0, 0.5, 0.8, 1]).value_counts().plot.bar();"
   ]
  },
  {
   "cell_type": "code",
   "execution_count": 25,
   "id": "759521bf-7d6d-4e3e-a75b-eb35eec22b9b",
   "metadata": {},
   "outputs": [
    {
     "data": {
      "image/png": "[encoded data removed]",
      "text/plain": [
       "<Figure size 640x480 with 1 Axes>"
      ]
     },
     "metadata": {},
     "output_type": "display_data"
    }
   ],
   "source": [
    "df['beds_disc'] = pd.qcut(df.beds,[0, 0.5, 0.8, 1],\n",
    "                         labels = ['1','2','3-24'])\n",
    "\n",
    "df['beds_disc'].value_counts().sort_index(ascending = False).plot.barh();"
   ]
  },
  {
   "cell_type": "markdown",
   "id": "a9e084e3-eba1-4db4-a41e-a2ef62f5aaab",
   "metadata": {},
   "source": [
    "**Ahora con number of reviews**"
   ]
  },
  {
   "cell_type": "code",
   "execution_count": 26,
   "id": "3ba27d11-d9a9-4caf-9e8a-8819fc7fcb8d",
   "metadata": {},
   "outputs": [
    {
     "data": {
      "text/plain": [
       "0        (-0.001, 10.0]\n",
       "1        (-0.001, 10.0]\n",
       "2        (-0.001, 10.0]\n",
       "3        (-0.001, 10.0]\n",
       "4        (-0.001, 10.0]\n",
       "              ...      \n",
       "24905    (-0.001, 10.0]\n",
       "24906    (-0.001, 10.0]\n",
       "24907      (10.0, 68.0]\n",
       "24908    (-0.001, 10.0]\n",
       "24909    (-0.001, 10.0]\n",
       "Name: number_of_reviews, Length: 24910, dtype: category\n",
       "Categories (3, interval[float64, right]): [(-0.001, 10.0] < (10.0, 68.0] < (68.0, 1092.0]]"
      ]
     },
     "execution_count": 26,
     "metadata": {},
     "output_type": "execute_result"
    }
   ],
   "source": [
    "pd.qcut(df.number_of_reviews, [0,0.5,0.8,1])"
   ]
  },
  {
   "cell_type": "code",
   "execution_count": 27,
   "id": "5e4dd718-a8b2-4898-bfc0-7d58a1bf9a95",
   "metadata": {},
   "outputs": [
    {
     "data": {
      "image/png": "[encoded data removed]",
      "text/plain": [
       "<Figure size 640x480 with 1 Axes>"
      ]
     },
     "metadata": {},
     "output_type": "display_data"
    }
   ],
   "source": [
    "pd.qcut(df.number_of_reviews,[0, 0.5, 0.8, 1]).value_counts().plot.bar();"
   ]
  },
  {
   "cell_type": "code",
   "execution_count": 28,
   "id": "2e82ecc9-064f-4be4-9a32-6b519db126ba",
   "metadata": {},
   "outputs": [
    {
     "data": {
      "image/png": "[encoded data removed]",
      "text/plain": [
       "<Figure size 640x480 with 1 Axes>"
      ]
     },
     "metadata": {},
     "output_type": "display_data"
    }
   ],
   "source": [
    "df['number_of_reviews_disc'] = pd.qcut(df.number_of_reviews,[0, 0.5, 0.8, 1],\n",
    "                                      labels = ['1-4','5-48','49-744'])\n",
    "\n",
    "df['number_of_reviews_disc'].value_counts().sort_index(ascending = False).plot.barh();"
   ]
  },
  {
   "cell_type": "markdown",
   "id": "867ff634-5c2a-4d15-ac27-a185e72ac501",
   "metadata": {},
   "source": [
    "**CREACIÓN DE VARIABLES SOBRE DATOS EXTERNOS** "
   ]
  },
  {
   "cell_type": "markdown",
   "id": "215e88c7-d179-4b5e-9fa7-9d6cac75966a",
   "metadata": {},
   "source": [
    "En este caso en concreto se podrían hacer muchas cosas con datos externos.\n",
    "\n",
    "Lo primero, que ya hemos incorporado parcialmente, es la palanca del precio del inmueble.\n",
    "\n",
    "Decíamos que la podíamos estimar multiplicando los metros cuadrados del inmueble por el precio por m2.\n",
    "\n",
    "El precio_m2 ya lo hemos conseguido, pero el tamaño del inmueble no lo tenemos en los datos.\n",
    "\n",
    "Lo que podemos hacer es establecer unos criterios en base al número de habitaciones.\n",
    "\n",
    "No es perfecto, pero nos servirá de aproximación."
   ]
  },
  {
   "cell_type": "markdown",
   "id": "84d7022a-e505-4de7-bc82-18ede753cf28",
   "metadata": {},
   "source": [
    "**Estimación de los metros cuadrados del inmueble**\n",
    "\n",
    "Vamos usar el siguiente algoritmo:\n",
    "\n",
    "una habitación: m2 = 50\n",
    "dos habitaciones: m2 = 70\n",
    "tres habitaciones: m2 = 90\n",
    "cuatro habitaciones: m2 = 120\n",
    "cinco o más habitaciones: m2 = 150"
   ]
  },
  {
   "cell_type": "code",
   "execution_count": 31,
   "id": "e7f08878-eccd-4f03-93da-6644c3768ccb",
   "metadata": {},
   "outputs": [],
   "source": [
    "#Vamos a estimar el tamaño del piso\n",
    "condiciones = [df.bedrooms == 1,\n",
    "               df.bedrooms == 2,\n",
    "               df.bedrooms == 3,\n",
    "               df.bedrooms == 4,\n",
    "               df.bedrooms > 4]\n",
    "\n",
    "resultados = [50,70,90,120,150]\n",
    "\n",
    "df['m2'] = np.select(condiciones, resultados, default = -999)"
   ]
  },
  {
   "cell_type": "markdown",
   "id": "6e9db106-6005-434b-98b9-53f2567c57a7",
   "metadata": {},
   "source": [
    "Comprobamos:"
   ]
  },
  {
   "cell_type": "code",
   "execution_count": 34,
   "id": "0e64e700-5393-4579-81ef-4743013678e5",
   "metadata": {},
   "outputs": [
    {
     "data": {
      "text/plain": [
       "m2\n",
       " 50     16536\n",
       " 70      5013\n",
       " 90      1529\n",
       "-999     1429\n",
       " 120      265\n",
       " 150      138\n",
       "Name: count, dtype: int64"
      ]
     },
     "execution_count": 34,
     "metadata": {},
     "output_type": "execute_result"
    }
   ],
   "source": [
    "df['m2'].value_counts()"
   ]
  },
  {
   "cell_type": "markdown",
   "id": "d490045a-ad5b-4844-a9e2-38bec2eff32e",
   "metadata": {},
   "source": [
    "Ahora ya podemos estimar el **precio de compra del inmueble.**\n",
    "\n",
    "Recordamos que al precio que nos sale le quitábamos un 30% por capacidad de negociación."
   ]
  },
  {
   "cell_type": "code",
   "execution_count": 35,
   "id": "2beabd27-2ce9-4fd7-8b02-058375be50f2",
   "metadata": {},
   "outputs": [],
   "source": [
    "df['precio_compra'] = df.m2 * df.precio_m2 * 0.7"
   ]
  },
  {
   "cell_type": "markdown",
   "id": "8038541b-e37f-40c7-a1d9-06307cffc58f",
   "metadata": {},
   "source": [
    "Comprobamos:"
   ]
  },
  {
   "cell_type": "code",
   "execution_count": 36,
   "id": "04058369-3407-4647-9cd5-a15cc880c167",
   "metadata": {},
   "outputs": [
    {
     "data": {
      "text/html": [
       "<div>\n",
       "<style scoped>\n",
       "    .dataframe tbody tr th:only-of-type {\n",
       "        vertical-align: middle;\n",
       "    }\n",
       "\n",
       "    .dataframe tbody tr th {\n",
       "        vertical-align: top;\n",
       "    }\n",
       "\n",
       "    .dataframe thead th {\n",
       "        text-align: right;\n",
       "    }\n",
       "</style>\n",
       "<table border=\"1\" class=\"dataframe\">\n",
       "  <thead>\n",
       "    <tr style=\"text-align: right;\">\n",
       "      <th></th>\n",
       "      <th>bedrooms</th>\n",
       "      <th>m2</th>\n",
       "      <th>distrito</th>\n",
       "      <th>precio_m2</th>\n",
       "      <th>precio_compra</th>\n",
       "    </tr>\n",
       "  </thead>\n",
       "  <tbody>\n",
       "    <tr>\n",
       "      <th>0</th>\n",
       "      <td>1</td>\n",
       "      <td>50</td>\n",
       "      <td>Centro</td>\n",
       "      <td>6594</td>\n",
       "      <td>230790.0</td>\n",
       "    </tr>\n",
       "    <tr>\n",
       "      <th>1</th>\n",
       "      <td>1</td>\n",
       "      <td>50</td>\n",
       "      <td>Centro</td>\n",
       "      <td>6594</td>\n",
       "      <td>230790.0</td>\n",
       "    </tr>\n",
       "    <tr>\n",
       "      <th>2</th>\n",
       "      <td>1</td>\n",
       "      <td>50</td>\n",
       "      <td>San Blas - Canillejas</td>\n",
       "      <td>3194</td>\n",
       "      <td>111790.0</td>\n",
       "    </tr>\n",
       "    <tr>\n",
       "      <th>3</th>\n",
       "      <td>1</td>\n",
       "      <td>50</td>\n",
       "      <td>Centro</td>\n",
       "      <td>6594</td>\n",
       "      <td>230790.0</td>\n",
       "    </tr>\n",
       "    <tr>\n",
       "      <th>4</th>\n",
       "      <td>1</td>\n",
       "      <td>50</td>\n",
       "      <td>Ciudad Lineal</td>\n",
       "      <td>4002</td>\n",
       "      <td>140070.0</td>\n",
       "    </tr>\n",
       "    <tr>\n",
       "      <th>5</th>\n",
       "      <td>1</td>\n",
       "      <td>50</td>\n",
       "      <td>Centro</td>\n",
       "      <td>6594</td>\n",
       "      <td>230790.0</td>\n",
       "    </tr>\n",
       "    <tr>\n",
       "      <th>6</th>\n",
       "      <td>1</td>\n",
       "      <td>50</td>\n",
       "      <td>Carabanchel</td>\n",
       "      <td>2889</td>\n",
       "      <td>101115.0</td>\n",
       "    </tr>\n",
       "    <tr>\n",
       "      <th>7</th>\n",
       "      <td>3</td>\n",
       "      <td>90</td>\n",
       "      <td>Ciudad Lineal</td>\n",
       "      <td>4002</td>\n",
       "      <td>252126.0</td>\n",
       "    </tr>\n",
       "    <tr>\n",
       "      <th>8</th>\n",
       "      <td>5</td>\n",
       "      <td>150</td>\n",
       "      <td>Moncloa - Aravaca</td>\n",
       "      <td>5147</td>\n",
       "      <td>540435.0</td>\n",
       "    </tr>\n",
       "    <tr>\n",
       "      <th>9</th>\n",
       "      <td>2</td>\n",
       "      <td>70</td>\n",
       "      <td>Hortaleza</td>\n",
       "      <td>4490</td>\n",
       "      <td>220010.0</td>\n",
       "    </tr>\n",
       "    <tr>\n",
       "      <th>10</th>\n",
       "      <td>1</td>\n",
       "      <td>50</td>\n",
       "      <td>Ciudad Lineal</td>\n",
       "      <td>4002</td>\n",
       "      <td>140070.0</td>\n",
       "    </tr>\n",
       "    <tr>\n",
       "      <th>11</th>\n",
       "      <td>3</td>\n",
       "      <td>90</td>\n",
       "      <td>Salamanca</td>\n",
       "      <td>8642</td>\n",
       "      <td>544446.0</td>\n",
       "    </tr>\n",
       "    <tr>\n",
       "      <th>12</th>\n",
       "      <td>2</td>\n",
       "      <td>70</td>\n",
       "      <td>Centro</td>\n",
       "      <td>6594</td>\n",
       "      <td>323106.0</td>\n",
       "    </tr>\n",
       "    <tr>\n",
       "      <th>13</th>\n",
       "      <td>1</td>\n",
       "      <td>50</td>\n",
       "      <td>Centro</td>\n",
       "      <td>6594</td>\n",
       "      <td>230790.0</td>\n",
       "    </tr>\n",
       "    <tr>\n",
       "      <th>14</th>\n",
       "      <td>1</td>\n",
       "      <td>50</td>\n",
       "      <td>Moncloa - Aravaca</td>\n",
       "      <td>5147</td>\n",
       "      <td>180145.0</td>\n",
       "    </tr>\n",
       "    <tr>\n",
       "      <th>15</th>\n",
       "      <td>2</td>\n",
       "      <td>70</td>\n",
       "      <td>Salamanca</td>\n",
       "      <td>8642</td>\n",
       "      <td>423458.0</td>\n",
       "    </tr>\n",
       "    <tr>\n",
       "      <th>16</th>\n",
       "      <td>1</td>\n",
       "      <td>50</td>\n",
       "      <td>Centro</td>\n",
       "      <td>6594</td>\n",
       "      <td>230790.0</td>\n",
       "    </tr>\n",
       "    <tr>\n",
       "      <th>17</th>\n",
       "      <td>1</td>\n",
       "      <td>50</td>\n",
       "      <td>Centro</td>\n",
       "      <td>6594</td>\n",
       "      <td>230790.0</td>\n",
       "    </tr>\n",
       "    <tr>\n",
       "      <th>18</th>\n",
       "      <td>1</td>\n",
       "      <td>50</td>\n",
       "      <td>Arganzuela</td>\n",
       "      <td>5062</td>\n",
       "      <td>177170.0</td>\n",
       "    </tr>\n",
       "    <tr>\n",
       "      <th>19</th>\n",
       "      <td>1</td>\n",
       "      <td>50</td>\n",
       "      <td>Arganzuela</td>\n",
       "      <td>5062</td>\n",
       "      <td>177170.0</td>\n",
       "    </tr>\n",
       "  </tbody>\n",
       "</table>\n",
       "</div>"
      ],
      "text/plain": [
       "    bedrooms   m2               distrito  precio_m2  precio_compra\n",
       "0          1   50                 Centro       6594       230790.0\n",
       "1          1   50                 Centro       6594       230790.0\n",
       "2          1   50  San Blas - Canillejas       3194       111790.0\n",
       "3          1   50                 Centro       6594       230790.0\n",
       "4          1   50          Ciudad Lineal       4002       140070.0\n",
       "5          1   50                 Centro       6594       230790.0\n",
       "6          1   50            Carabanchel       2889       101115.0\n",
       "7          3   90          Ciudad Lineal       4002       252126.0\n",
       "8          5  150      Moncloa - Aravaca       5147       540435.0\n",
       "9          2   70              Hortaleza       4490       220010.0\n",
       "10         1   50          Ciudad Lineal       4002       140070.0\n",
       "11         3   90              Salamanca       8642       544446.0\n",
       "12         2   70                 Centro       6594       323106.0\n",
       "13         1   50                 Centro       6594       230790.0\n",
       "14         1   50      Moncloa - Aravaca       5147       180145.0\n",
       "15         2   70              Salamanca       8642       423458.0\n",
       "16         1   50                 Centro       6594       230790.0\n",
       "17         1   50                 Centro       6594       230790.0\n",
       "18         1   50             Arganzuela       5062       177170.0\n",
       "19         1   50             Arganzuela       5062       177170.0"
      ]
     },
     "execution_count": 36,
     "metadata": {},
     "output_type": "execute_result"
    }
   ],
   "source": [
    "df[['bedrooms','m2','distrito','precio_m2','precio_compra']].head(20)"
   ]
  },
  {
   "cell_type": "markdown",
   "id": "e615a37a-26ef-46b0-8656-8a463a01898b",
   "metadata": {},
   "source": [
    "**Cálculo de la distancia de cada inmueble a la Puerta del Sol**"
   ]
  },
  {
   "cell_type": "code",
   "execution_count": 37,
   "id": "aad8eb3a-a6cd-40a0-895c-7f5495471ed9",
   "metadata": {},
   "outputs": [],
   "source": [
    "from math import radians, cos, sin, asin, sqrt\n",
    "\n",
    "def haversine(lat1, lon1, lat2, lon2):\n",
    "\n",
    "      R = 6372.8 #En km, si usas millas tienes que cambiarlo por 3959.87433\n",
    "\n",
    "      dLat = radians(lat2 - lat1)\n",
    "      dLon = radians(lon2 - lon1)\n",
    "      lat1 = radians(lat1)\n",
    "      lat2 = radians(lat2)\n",
    "\n",
    "      a = sin(dLat/2)**2 + cos(lat1)*cos(lat2)*sin(dLon/2)**2\n",
    "      c = 2*asin(sqrt(a))\n",
    "\n",
    "      return R * c"
   ]
  },
  {
   "cell_type": "markdown",
   "id": "5d8f5e37-399f-49a3-bd1f-2f5eb177703a",
   "metadata": {},
   "source": [
    "Creamos la variable"
   ]
  },
  {
   "cell_type": "code",
   "execution_count": 38,
   "id": "fac40439-9c0c-48ba-886b-496548de1d28",
   "metadata": {},
   "outputs": [],
   "source": [
    "#Las coordenadas de la Puerta del Sol serán lat1 y lon1\n",
    "lat1 = 40.4167278\n",
    "lon1 = -3.7033387\n",
    "\n",
    "df['pdi_sol'] = df.apply(lambda registro: haversine(lat1,lon1,registro.latitude,registro.longitude),axis = 1)"
   ]
  },
  {
   "cell_type": "markdown",
   "id": "bbe2aad8-0388-4d19-9c46-213075c2f43b",
   "metadata": {},
   "source": [
    "Comprobamos revisando la distancia media por distritos."
   ]
  },
  {
   "cell_type": "code",
   "execution_count": 39,
   "id": "fcafeebb-494d-4dab-ab3e-a1f0f07f5885",
   "metadata": {},
   "outputs": [
    {
     "data": {
      "text/plain": [
       "distrito\n",
       "Centro                    0.734680\n",
       "Arganzuela                1.930994\n",
       "Chamberí                  2.159331\n",
       "Retiro                    2.498931\n",
       "Salamanca                 2.832399\n",
       "Moncloa - Aravaca         3.125119\n",
       "Latina                    3.754601\n",
       "Carabanchel               3.933539\n",
       "Usera                     3.995925\n",
       "Chamartín                 4.543991\n",
       "Puente de Vallecas        4.548435\n",
       "Tetuán                    4.690383\n",
       "Moratalaz                 5.011756\n",
       "Ciudad Lineal             5.121725\n",
       "Villaverde                7.730218\n",
       "Fuencarral - El Pardo     7.918060\n",
       "Hortaleza                 7.989852\n",
       "San Blas - Canillejas     8.368029\n",
       "Vicálvaro                 9.047594\n",
       "Villa de Vallecas         9.279963\n",
       "Barajas                  11.457700\n",
       "Name: pdi_sol, dtype: float64"
      ]
     },
     "execution_count": 39,
     "metadata": {},
     "output_type": "execute_result"
    }
   ],
   "source": [
    "df.groupby('distrito').pdi_sol.mean().sort_values()"
   ]
  },
  {
   "cell_type": "markdown",
   "id": "595926fc-31a7-4435-ac8a-db8771a098dc",
   "metadata": {},
   "source": [
    "**Guardamos en el DATAMART**"
   ]
  },
  {
   "cell_type": "markdown",
   "id": "f24ed7c7-7ec5-4b33-a6be-58145b76586e",
   "metadata": {},
   "source": [
    "Vamos a guardar esta version como df_preparado"
   ]
  },
  {
   "cell_type": "code",
   "execution_count": 40,
   "id": "2a3e424c-d52e-4170-a34d-11a122cf3b0d",
   "metadata": {},
   "outputs": [
    {
     "data": {
      "text/plain": [
       "24910"
      ]
     },
     "execution_count": 40,
     "metadata": {},
     "output_type": "execute_result"
    }
   ],
   "source": [
    "df.to_sql('df_preparado', con = con, if_exists = 'replace')"
   ]
  }
 ],
 "metadata": {
  "kernelspec": {
   "display_name": "Python 3 (ipykernel)",
   "language": "python",
   "name": "python3"
  },
  "language_info": {
   "codemirror_mode": {
    "name": "ipython",
    "version": 3
   },
   "file_extension": ".py",
   "mimetype": "text/x-python",
   "name": "python",
   "nbconvert_exporter": "python",
   "pygments_lexer": "ipython3",
   "version": "3.12.3"
  }
 },
 "nbformat": 4,
 "nbformat_minor": 5
}
